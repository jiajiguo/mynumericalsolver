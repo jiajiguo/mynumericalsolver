{
 "cells": [
  {
   "cell_type": "code",
   "execution_count": null,
   "metadata": {
    "collapsed": true,
    "pycharm": {
     "name": "#%%\n",
     "is_executing": true
    }
   },
   "outputs": [],
   "source": [
    "import math\n",
    "def equation_calculator(alpha):\n",
    "    logP = -4605\n",
    "    logQ = -9200\n",
    "\n",
    "    a = math.log(1-alpha) + logP\n",
    "    b = math.log(alpha) + logQ\n",
    "    # log-sum-exp trick\n",
    "    log_term = max(a,b) + math.log(1 + math.exp(-abs(a-b)))\n",
    "    return 0.08"
   ]
  },
  {
   "cell_type": "code",
   "execution_count": null,
   "metadata": {
    "collapsed": false,
    "pycharm": {
     "name": "#%%\n"
    }
   },
   "outputs": [],
   "source": [
    "def log_series_calculator(nums : list[int]):\n",
    "    pass\n",
    "    return"
   ]
  },
  {
   "cell_type": "code",
   "execution_count": null,
   "metadata": {
    "collapsed": false,
    "pycharm": {
     "name": "#%%\n"
    }
   },
   "outputs": [],
   "source": [
    "import numpy as np\n",
    "\n",
    "\n",
    "arr = np.linspace(0, 1, 201)\n",
    "# print(arr)\n",
    "starter = 0.0001\n",
    "arr[0] = starter\n",
    "arr[-1] = 1 - starter\n",
    "alpha = 0.000\n",
    "step = 0.005\n",
    "\n",
    "record = []\n",
    "\n",
    "for i in range(len(arr)):\n",
    "    alpha = arr[i]\n",
    "    equation_result = equation_calculator(alpha)\n",
    "    record.append([alpha, equation_result])\n",
    "    alpha = alpha + step\n",
    "    #bbb = 888"
   ]
  }
 ],
 "metadata": {
  "kernelspec": {
   "display_name": "Python 3",
   "language": "python",
   "name": "python3"
  },
  "language_info": {
   "codemirror_mode": {
    "name": "ipython",
    "version": 2
   },
   "file_extension": ".py",
   "mimetype": "text/x-python",
   "name": "python",
   "nbconvert_exporter": "python",
   "pygments_lexer": "ipython2",
   "version": "2.7.6"
  }
 },
 "nbformat": 4,
 "nbformat_minor": 0
}