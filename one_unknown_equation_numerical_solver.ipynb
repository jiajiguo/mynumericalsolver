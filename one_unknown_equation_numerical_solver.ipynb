{
 "cells": [
  {
   "cell_type": "code",
   "execution_count": 63,
   "outputs": [],
   "source": [
    "import math\n",
    "vocabulary_list_p = []\n",
    "vocabulary_list_p.append([\"great\", 0.8])\n",
    "vocabulary_list_p.append([\"boring\", 0.1])\n",
    "vocabulary_list_p.append([\"amazing\", 0.7])\n",
    "vocabulary_list_p.append([\"slow\", 0.2])\n",
    "\n",
    "vocabulary_list_q = []\n",
    "vocabulary_list_q.append([\"great\", 0.5])\n",
    "vocabulary_list_q.append([\"boring\", 0.5])\n",
    "vocabulary_list_q.append([\"amazing\", 0.7])\n",
    "vocabulary_list_q.append([\"slow\", 0.2])\n",
    "\n",
    "x = []\n",
    "x.append(\"great\")\n",
    "x.append(\"slow\")\n",
    "\n",
    "def probability_calculator(vocabulary_list, x):\n",
    "    log_sum = 0.0\n",
    "    for word, prob in vocabulary_list:\n",
    "        if word in x:\n",
    "            log_sum += math.log(prob)\n",
    "        else:\n",
    "            log_sum += math.log(1 - prob)\n",
    "    return log_sum\n",
    "\n",
    "new_logsum = probability_calculator(vocabulary_list_p, x)\n",
    "new_prob = math.exp(new_logsum)\n",
    "\n",
    "\n",
    "# new_prob = 1.1111\n",
    "def log_series_calculator(nums : list[int]):\n",
    "    pass\n",
    "    return"
   ],
   "metadata": {
    "collapsed": false,
    "pycharm": {
     "name": "#%%\n"
    }
   }
  },
  {
   "cell_type": "code",
   "execution_count": 64,
   "outputs": [],
   "source": [
    "def equation_test(vocabulary_list_p, vocabulary_list_q, x):\n",
    "    logP = probability_calculator(vocabulary_list_p, x)\n",
    "    logQ = probability_calculator(vocabulary_list_q, x)\n",
    "    return (logP, logQ)\n",
    "\n",
    "# mytest = equation_test(vocabulary_list_p, vocabulary_list_q, x)"
   ],
   "metadata": {
    "collapsed": false,
    "pycharm": {
     "name": "#%%\n"
    }
   }
  },
  {
   "cell_type": "code",
   "execution_count": 65,
   "outputs": [],
   "source": [
    "\n",
    "def equation_calculator(vocabulary_list_p, vocabulary_list_q, x):\n",
    "    logP = probability_calculator(vocabulary_list_p, x)\n",
    "    logQ = probability_calculator(vocabulary_list_q, x)\n",
    "\n",
    "    a = math.log(1-alpha) + logP\n",
    "    # print(a)\n",
    "    b = math.log(alpha) + logQ\n",
    "    # print(b)\n",
    "    # log-sum-exp trick\n",
    "    log_term = max(a,b) + math.log(1 + math.exp(-abs(a-b)))\n",
    "    # print(math.log(1 + math.exp(-abs(a-b))))\n",
    "    return log_term\n",
    "\n",
    "# mytest = equation_calculator(vocabulary_list_p, vocabulary_list_q, x)"
   ],
   "metadata": {
    "collapsed": false,
    "pycharm": {
     "name": "#%%\n"
    }
   }
  },
  {
   "cell_type": "code",
   "execution_count": 66,
   "outputs": [],
   "source": [
    "import numpy as np\n",
    "\n",
    "\n",
    "arr = np.linspace(0, 1, 51)\n",
    "# print(arr)\n",
    "starter = 0.0001\n",
    "arr[0] = starter\n",
    "arr[-1] = 1 - starter\n",
    "alpha = 0.0001\n",
    "# step = 0.005\n",
    "\n",
    "record = []\n",
    "\n",
    "for i in range(len(arr)):\n",
    "    pass\n",
    "    alpha = arr[i]\n",
    "    equation_result = equation_calculator(vocabulary_list_p, vocabulary_list_q, x)\n",
    "    record.append([alpha, equation_result])\n",
    "    # alpha = alpha + step\n",
    "    #注意不要开全局模式，开规则模式就可以了"
   ],
   "metadata": {
    "collapsed": false,
    "pycharm": {
     "name": "#%%\n"
    }
   }
  },
  {
   "cell_type": "code",
   "execution_count": 67,
   "outputs": [
    {
     "data": {
      "text/plain": "<Figure size 640x480 with 1 Axes>",
      "image/png": "[encoded data removed]"
     },
     "metadata": {},
     "output_type": "display_data"
    }
   ],
   "source": [
    "import matplotlib.pyplot as plt\n",
    "\n",
    "# 假设你的数组\n",
    "# points = [[1, 2], [2, 4], [3, 1], [4, 3]]\n",
    "\n",
    "# 拆分横纵坐标\n",
    "x = [p[0] for p in record]\n",
    "y = [p[1] for p in record]\n",
    "\n",
    "# 画折线\n",
    "plt.plot(x, y, marker='o', linestyle='-', color='blue')  # marker='o' 标出每个点\n",
    "plt.xlabel('X')\n",
    "plt.ylabel('Y')\n",
    "plt.title('折线图')\n",
    "plt.grid(True)  # 可选，加网格\n",
    "plt.show()\n"
   ],
   "metadata": {
    "collapsed": false,
    "pycharm": {
     "name": "#%%\n"
    }
   }
  }
 ],
 "metadata": {
  "kernelspec": {
   "display_name": "Python 3",
   "language": "python",
   "name": "python3"
  },
  "language_info": {
   "codemirror_mode": {
    "name": "ipython",
    "version": 2
   },
   "file_extension": ".py",
   "mimetype": "text/x-python",
   "name": "python",
   "nbconvert_exporter": "python",
   "pygments_lexer": "ipython2",
   "version": "2.7.6"
  }
 },
 "nbformat": 4,
 "nbformat_minor": 0
}